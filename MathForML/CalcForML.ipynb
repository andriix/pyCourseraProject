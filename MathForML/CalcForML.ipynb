{
 "cells": [
  {
   "cell_type": "code",
   "execution_count": 51,
   "metadata": {
    "collapsed": true,
    "pycharm": {
     "name": "#%%\n"
    }
   },
   "outputs": [
    {
     "name": "stdout",
     "output_type": "stream",
     "text": [
      "x: \n",
      " [1 2 3]\n",
      "f(x) = x**2: \n",
      " [1 4 9]\n",
      "f'(x) = 2x: \n",
      " [2 4 6]\n"
     ]
    },
    {
     "data": {
      "text/plain": "<Figure size 432x288 with 1 Axes>",
      "image/png": "[encoded data removed]"
     },
     "metadata": {
      "needs_background": "light"
     },
     "output_type": "display_data"
    },
    {
     "name": "stdout",
     "output_type": "stream",
     "text": [
      "math.sqrt for 18: 4.242640687119285\n",
      "sympy.sqrt for 18: 3*sqrt(2)\n",
      "numerical evaluation for sympy.sqrt: 4.243\n",
      "my equation:\n",
      "   2      \n",
      "2⋅x  - x⋅y\n",
      "\n",
      "equation manipulation\n",
      "  ⎛ 3      2⎞\n",
      "x⋅⎝x  + 2⋅x ⎠\n",
      "\n",
      "expand the expression:\n",
      " 4      3\n",
      "x  + 2⋅x \n",
      "\n",
      "factorise:\n",
      " 3        \n",
      "x ⋅(x + 2)\n",
      "\n",
      "x^2 evaluation with x=3:\n",
      "9.00000000000000\n",
      "\n",
      "evaluation of symbolic function over an array->\n",
      "x: \n",
      " [1 2 3]\n",
      "f(x) = x**2: \n",
      " [1 4 9]\n",
      "\n",
      " derivative of x^3:\n",
      "   2\n",
      "3⋅x \n"
     ]
    }
   ],
   "source": [
    "\"\"\"\n",
    "Differentiation in Python: Symbolic, Numerical and Automatic\n",
    "\"\"\"\n",
    "\n",
    "import numpy as np\n",
    "import matplotlib.pyplot as plt\n",
    "\n",
    "# Output of plotting commands is displayed inline within the Jupyter notebook.\n",
    "%matplotlib inline\n",
    "\n",
    "# FUNCTIONS IN PYTHON\n",
    "def f(x):\n",
    "    return x**2\n",
    "def dfdx(x):\n",
    "    return 2*x\n",
    "def plot_f1_and_f2(f1, f2=None, x_min=-5, x_max=5, label1=\"f(x)\", label2=\"f'(x)\"):\n",
    "    x = np.linspace(x_min, x_max,100)\n",
    "\n",
    "    # Setting the axes at the centre.\n",
    "    fig = plt.figure()\n",
    "    ax = fig.add_subplot(1, 1, 1)\n",
    "    ax.spines['left'].set_position('center')\n",
    "    ax.spines['bottom'].set_position('zero')\n",
    "    ax.spines['right'].set_color('none')\n",
    "    ax.spines['top'].set_color('none')\n",
    "    ax.xaxis.set_ticks_position('bottom')\n",
    "    ax.yaxis.set_ticks_position('left')\n",
    "\n",
    "    plt.plot(x, f1(x), 'r', label=label1)\n",
    "    if not f2 is None:\n",
    "        # If f2 is an array, it is passed as it is to be plotted as unlinked points.\n",
    "        # If f2 is a function, f2(x) needs to be passed to plot it.\n",
    "        if isinstance(f2, np.ndarray):\n",
    "            plt.plot(x, f2, 'bo', markersize=3, label=label2,)\n",
    "        else:\n",
    "            plt.plot(x, f2(x), 'b', label=label2)\n",
    "    plt.legend()\n",
    "\n",
    "    plt.show()\n",
    "\n",
    "x_array = np.array([1, 2, 3])\n",
    "\n",
    "print(\"x: \\n\", x_array)\n",
    "print(\"f(x) = x**2: \\n\", f(x_array))\n",
    "print(\"f'(x) = 2x: \\n\", dfdx(x_array))\n",
    "\n",
    "plot_f1_and_f2(f, dfdx)\n",
    "\n",
    "# 2 SYMBOLIC DIFFERENTIATION\n",
    "# 2.1 - Introduction to Symbolic Computation with SymPy\n",
    "import math\n",
    "# This format of module import allows to use the sympy functions without sympy. prefix.\n",
    "from sympy import *\n",
    "\n",
    "print(f\"math.sqrt for 18: {math.sqrt(18)}\")\n",
    "# This is actually sympy.sqrt function, but sympy. prefix is omitted.\n",
    "print(f\"sympy.sqrt for 18: {sqrt(18)}\")\n",
    "print(f\"numerical evaluation for sympy.sqrt: {N(sqrt(18),4)}\")\n",
    "\n",
    "# List of symbols.\n",
    "x, y = symbols('x y')\n",
    "# Definition of the expression.\n",
    "expr = 2 * x**2 - x * y\n",
    "print(\"my equation:\")\n",
    "pprint(expr)\n",
    "\n",
    "print(\"\\nequation manipulation\")\n",
    "expr_manip = x * (expr + x * y + x**3)\n",
    "pprint(expr_manip)\n",
    "print(\"\\nexpand the expression:\")\n",
    "pprint(expand(expr_manip))\n",
    "print(\"\\nfactorise:\")\n",
    "pprint(factor(expr_manip))\n",
    "\n",
    "f_symb = x ** 2\n",
    "print(\"\\nx^2 evaluation with x=3:\")\n",
    "pprint(f_symb.evalf(subs={x:3}))\n",
    "\n",
    "from sympy.utilities.lambdify import lambdify #to make a function NumPy-friendly\n",
    "f_symb_numpy = lambdify(x, f_symb, 'numpy')\n",
    "print(\"\\nevaluation of symbolic function over an array->\")\n",
    "print(\"x: \\n\", x_array)\n",
    "print(\"f(x) = x**2: \\n\", f_symb_numpy(x_array))\n",
    "\n",
    "# 2.2 - Symbolic Differentiation with SymPy\n",
    "print(\"\\n derivative of x^3:\")\n",
    "pprint(diff(x**3,x))\n",
    "\n"
   ]
  }
 ],
 "metadata": {
  "kernelspec": {
   "display_name": "Python 3",
   "language": "python",
   "name": "python3"
  },
  "language_info": {
   "codemirror_mode": {
    "name": "ipython",
    "version": 2
   },
   "file_extension": ".py",
   "mimetype": "text/x-python",
   "name": "python",
   "nbconvert_exporter": "python",
   "pygments_lexer": "ipython2",
   "version": "2.7.6"
  }
 },
 "nbformat": 4,
 "nbformat_minor": 0
}