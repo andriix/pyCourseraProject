{
 "cells": [
  {
   "cell_type": "code",
   "execution_count": 7,
   "metadata": {
    "collapsed": true
   },
   "outputs": [
    {
     "name": "stdout",
     "output_type": "stream",
     "text": [
      "[0 1 2 3 4]\n",
      "[ 1  4  7 10 13 16 19]\n",
      "[  0  25  50  75 100]\n",
      "['Oss, white belt']\n",
      "<U15\n",
      "[1 1 1 1 1]\n",
      "[0.01159396 0.537145   0.9243192  0.90001025]\n"
     ]
    }
   ],
   "source": [
    "\"\"\"\n",
    "Introduction to Python Matrices and NumPy\n",
    "\"\"\"\n",
    "import numpy as np\n",
    "\n",
    "arr1 = np.arange(5)\n",
    "print(arr1)\n",
    "\n",
    "arr2 = np.arange(1,20,3)\n",
    "print(arr2)\n",
    "\n",
    "lin_spaced_arr = np.linspace(0,100,5, dtype = int)\n",
    "print(lin_spaced_arr)\n",
    "\n",
    "char_arr = np.array(['Oss, white belt'])\n",
    "print(char_arr)\n",
    "print(char_arr.dtype)\n",
    "\n",
    "ones = np.ones(5, dtype = int)\n",
    "print(ones)\n",
    "\n",
    "rand_arr = np.random.rand(4)\n",
    "print(rand_arr)\n",
    "\n",
    "# continue at 2 in C1_W1_Lab_1_introduction_to_numpy_arrays"
   ]
  }
 ],
 "metadata": {
  "kernelspec": {
   "display_name": "Python 3",
   "language": "python",
   "name": "python3"
  },
  "language_info": {
   "codemirror_mode": {
    "name": "ipython",
    "version": 2
   },
   "file_extension": ".py",
   "mimetype": "text/x-python",
   "name": "python",
   "nbconvert_exporter": "python",
   "pygments_lexer": "ipython2",
   "version": "2.7.6"
  }
 },
 "nbformat": 4,
 "nbformat_minor": 0
}
