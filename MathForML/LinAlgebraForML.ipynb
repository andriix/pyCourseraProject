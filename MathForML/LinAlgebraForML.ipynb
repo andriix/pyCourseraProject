{
 "cells": [
  {
   "cell_type": "code",
   "execution_count": 6,
   "metadata": {
    "collapsed": true,
    "pycharm": {
     "name": "#%%\n"
    }
   },
   "outputs": [
    {
     "name": "stdout",
     "output_type": "stream",
     "text": [
      "[0 1 2 3 4]\n",
      "[ 1  4  7 10 13 16 19]\n",
      "[  0  25  50  75 100]\n",
      "['Oss, white belt']\n",
      "<U15\n"
     ]
    }
   ],
   "source": [
    "\"\"\"\n",
    "Introduction to Python Matrices and NumPy\n",
    "\"\"\"\n",
    "import numpy as np\n",
    "\n",
    "arr1 = np.arange(5)\n",
    "print(arr1)\n",
    "\n",
    "arr2 = np.arange(1,20,3)\n",
    "print(arr2)\n",
    "\n",
    "lin_spaced_arr = np.linspace(0,100,5, dtype = int)\n",
    "print(lin_spaced_arr)\n",
    "\n",
    "char_arr = np.array(['Oss, white belt'])\n",
    "print(char_arr)\n",
    "print(char_arr.dtype)\n",
    "\n",
    "# Continue from 1.4 - More on NumPy arrays"
   ]
  }
 ],
 "metadata": {
  "kernelspec": {
   "display_name": "Python 3",
   "language": "python",
   "name": "python3"
  },
  "language_info": {
   "codemirror_mode": {
    "name": "ipython",
    "version": 2
   },
   "file_extension": ".py",
   "mimetype": "text/x-python",
   "name": "python",
   "nbconvert_exporter": "python",
   "pygments_lexer": "ipython2",
   "version": "2.7.6"
  }
 },
 "nbformat": 4,
 "nbformat_minor": 0
}