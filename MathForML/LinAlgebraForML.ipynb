{
 "cells": [
  {
   "cell_type": "code",
   "execution_count": 15,
   "metadata": {
    "collapsed": true
   },
   "outputs": [
    {
     "name": "stdout",
     "output_type": "stream",
     "text": [
      "[0 1 2 3 4]\n",
      "[ 1  4  7 10 13 16 19]\n",
      "[  0  25  50  75 100]\n",
      "['Oss, white belt']\n",
      "<U15\n",
      "[1 1 1 1 1]\n",
      "[0.12131736 0.76537744 0.21283142 0.81836389]\n",
      "\n",
      "[[11 12 13]\n",
      " [21 22 23]]\n",
      "[[ 1  2  3  4  5]\n",
      " [ 6  7  8  9 10]]\n",
      "dimension: 2, shape: (2, 5), size: 10\n",
      "[ 4 10 18]\n",
      "a1:\n",
      "[[1 1]\n",
      " [2 2]]\n",
      "a2:\n",
      "[[3 3]\n",
      " [4 4]]\n",
      "horiz:\n",
      "[[1 1 3 3]\n",
      " [2 2 4 4]]\n"
     ]
    }
   ],
   "source": [
    "\"\"\"\n",
    "Introduction to Python Matrices and NumPy\n",
    "\"\"\"\n",
    "import numpy as np\n",
    "\n",
    "# Basics\n",
    "arr1 = np.arange(5)\n",
    "print(arr1)\n",
    "\n",
    "arr2 = np.arange(1,20,3)\n",
    "print(arr2)\n",
    "\n",
    "lin_spaced_arr = np.linspace(0,100,5, dtype = int)\n",
    "print(lin_spaced_arr)\n",
    "\n",
    "char_arr = np.array(['Oss, white belt'])\n",
    "print(char_arr)\n",
    "print(char_arr.dtype)\n",
    "\n",
    "ones = np.ones(5, dtype = int)\n",
    "print(ones)\n",
    "\n",
    "rand_arr = np.random.rand(4)\n",
    "print(rand_arr)\n",
    "print()\n",
    "\n",
    "#Multidimensional Arrays\n",
    "two_D_arr = np.array([[11,12,13],[21,22,23]])\n",
    "print(two_D_arr)\n",
    "\n",
    "one_D_arr = np.array([1,2,3,4,5,6,7,8,9,10])\n",
    "multi_D_arr = np.reshape(one_D_arr, (2,5))\n",
    "print(multi_D_arr)\n",
    "\n",
    "print(\"dimension: \" + str(multi_D_arr.ndim) + \", shape: \" + str(multi_D_arr.shape) + \", size: \" + str(multi_D_arr.size))\n",
    "\n",
    "multip_arr = np.array([1,2,3]) * np.array([4,5,6])\n",
    "print (multip_arr)\n",
    "\n",
    "a1 = np.array([[1,1],\n",
    "               [2,2]])\n",
    "a2 = np.array([[3,3],\n",
    "               [4,4]])\n",
    "print(f'a1:\\n{a1}')\n",
    "print(f'a2:\\n{a2}')\n",
    "\n",
    "vert_stack = np.hstack((a1,a2))\n",
    "print(f\"horiz:\\n{vert_stack}\")"
   ]
  },
  {
   "cell_type": "code",
   "execution_count": 22,
   "outputs": [
    {
     "name": "stdout",
     "output_type": "stream",
     "text": [
      "determinant of arr1 is: 17.999999999999996\n",
      "vect1:\n",
      "[1 1]\n",
      "arr1 * vect1 = \n",
      "[7 3]\n"
     ]
    }
   ],
   "source": [
    "\"\"\"\n",
    "Determinant of a matrix\n",
    "\"\"\"\n",
    "import numpy as np\n",
    "\n",
    "arr1 = np.array([[6,1],\n",
    "                 [0,3]])\n",
    "print(f\"determinant of arr1 is: {np.linalg.det(arr1)}\")\n",
    "\n",
    "vect1 = np.array([1,1])\n",
    "print(f\"vect1:\\n{vect1}\")\n",
    "vect2 = arr1.dot(vect1)\n",
    "print(f\"arr1 * vect1 = \\n{vect2}\")"
   ],
   "metadata": {
    "collapsed": false
   }
  }
 ],
 "metadata": {
  "kernelspec": {
   "display_name": "Python 3",
   "language": "python",
   "name": "python3"
  },
  "language_info": {
   "codemirror_mode": {
    "name": "ipython",
    "version": 2
   },
   "file_extension": ".py",
   "mimetype": "text/x-python",
   "name": "python",
   "nbconvert_exporter": "python",
   "pygments_lexer": "ipython2",
   "version": "2.7.6"
  }
 },
 "nbformat": 4,
 "nbformat_minor": 0
}
