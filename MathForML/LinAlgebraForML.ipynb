{
 "cells": [
  {
   "cell_type": "code",
   "execution_count": 15,
   "metadata": {
    "collapsed": true
   },
   "outputs": [
    {
     "name": "stdout",
     "output_type": "stream",
     "text": [
      "[0 1 2 3 4]\n",
      "[ 1  4  7 10 13 16 19]\n",
      "[  0  25  50  75 100]\n",
      "['Oss, white belt']\n",
      "<U15\n",
      "[1 1 1 1 1]\n",
      "[0.12131736 0.76537744 0.21283142 0.81836389]\n",
      "\n",
      "[[11 12 13]\n",
      " [21 22 23]]\n",
      "[[ 1  2  3  4  5]\n",
      " [ 6  7  8  9 10]]\n",
      "dimension: 2, shape: (2, 5), size: 10\n",
      "[ 4 10 18]\n",
      "a1:\n",
      "[[1 1]\n",
      " [2 2]]\n",
      "a2:\n",
      "[[3 3]\n",
      " [4 4]]\n",
      "horiz:\n",
      "[[1 1 3 3]\n",
      " [2 2 4 4]]\n"
     ]
    }
   ],
   "source": [
    "\"\"\"\n",
    "Introduction to Python Matrices and NumPy\n",
    "\"\"\"\n",
    "import numpy as np\n",
    "\n",
    "# Basics\n",
    "arr1 = np.arange(5)\n",
    "print(arr1)\n",
    "\n",
    "arr2 = np.arange(1,20,3)\n",
    "print(arr2)\n",
    "\n",
    "lin_spaced_arr = np.linspace(0,100,5, dtype = int)\n",
    "print(lin_spaced_arr)\n",
    "\n",
    "char_arr = np.array(['Oss, white belt'])\n",
    "print(char_arr)\n",
    "print(char_arr.dtype)\n",
    "\n",
    "ones = np.ones(5, dtype = int)\n",
    "print(ones)\n",
    "\n",
    "rand_arr = np.random.rand(4)\n",
    "print(rand_arr)\n",
    "print()\n",
    "\n",
    "#Multidimensional Arrays\n",
    "two_D_arr = np.array([[11,12,13],[21,22,23]])\n",
    "print(two_D_arr)\n",
    "\n",
    "one_D_arr = np.array([1,2,3,4,5,6,7,8,9,10])\n",
    "multi_D_arr = np.reshape(one_D_arr, (2,5))\n",
    "print(multi_D_arr)\n",
    "\n",
    "print(\"dimension: \" + str(multi_D_arr.ndim) + \", shape: \" + str(multi_D_arr.shape) + \", size: \" + str(multi_D_arr.size))\n",
    "\n",
    "multip_arr = np.array([1,2,3]) * np.array([4,5,6])\n",
    "print (multip_arr)\n",
    "\n",
    "a1 = np.array([[1,1],\n",
    "               [2,2]])\n",
    "a2 = np.array([[3,3],\n",
    "               [4,4]])\n",
    "print(f'a1:\\n{a1}')\n",
    "print(f'a2:\\n{a2}')\n",
    "\n",
    "vert_stack = np.hstack((a1,a2))\n",
    "print(f\"horiz:\\n{vert_stack}\")"
   ]
  },
  {
   "cell_type": "code",
   "execution_count": null,
   "outputs": [],
   "source": [
    "\"\"\"\n",
    "Solving Linear Systems with 2 variables\n",
    "\"\"\"\n",
    "\n",
    "import numpy as np\n",
    "import matplotlib.pyplot as plt\n",
    "\n",
    "# solve a system using matrices\n",
    "A = np.array([\n",
    "    [-1, 3],\n",
    "    [3, 2]\n",
    "])\n",
    "b = np.array([7,1])\n",
    "x = np.linalg.solve(A,b)\n",
    "print(f\"Solution: {x}\")\n",
    "\n",
    "#evaluate determinant\n",
    "detA = np.linalg.det(A)\n",
    "print(f\"Determinant of A: {detA}\")\n",
    "\n",
    "#solve a system using Elimination Method\n",
    "A_system = np.hstack((A,b.reshape((2,1))))\n",
    "print(f\"A_system:\\n{A_system}\")\n",
    "A_syst_res = A_system.copy()\n",
    "A_syst_res[1] = 3 * A_syst_res[0] + A_syst_res[1]\n",
    "print(f\"A_system_res:\\n{A_syst_res}\")\n",
    "A_syst_res[1]= 1/11 * A_syst_res[1]\n",
    "print(f\"A_system_res:\\n{A_syst_res}\")\n",
    "\n",
    "#Graphical Representation of the Solution\n",
    "def plot_lines(matr):\n",
    "    x_1 = np.linspace(-10,10,100)\n",
    "    x_2_line_1 = (matr[0,2] - matr[0,0] * x_1) / matr[0,1]\n",
    "    x_2_line_2 = (matr[1,2] - matr[1,0] * x_1) / matr[1,1]\n",
    "\n",
    "    _, ax = plt.subplots(figsize=(10, 10))\n",
    "    ax.plot(x_1, x_2_line_1, '-', linewidth=2, color='#0075ff',\n",
    "            label=f'$x_2={-matr[0,0] / matr[0,1]:.2f}x_1 + {matr[0,2] / matr[0,1]:.2f}$')\n",
    "    ax.plot(x_1, x_2_line_2, '-', linewidth=2, color='#ff7300',\n",
    "            label=f'$x_2={-matr[1,0] / matr[1,1]:.2f}x_1 + {matr[1,2] / matr[1,1]:.2f}$')\n",
    "\n",
    "    A = matr[:, 0:-1]\n",
    "    b = matr[:, -1::].flatten()\n",
    "    d = np.linalg.det(A)\n",
    "\n",
    "    if d != 0:\n",
    "        solution = np.linalg.solve(A,b)\n",
    "        ax.plot(solution[0], solution[1], '-o', mfc='none',\n",
    "                markersize=10, markeredgecolor='#ff0000', markeredgewidth=2)\n",
    "        ax.text(solution[0]-0.25, solution[1]+0.75, f'$(${solution[0]:.0f}$,{solution[1]:.0f})$', fontsize=14)\n",
    "    ax.tick_params(axis='x', labelsize=14)\n",
    "    ax.tick_params(axis='y', labelsize=14)\n",
    "    ax.set_xticks(np.arange(-10, 10))\n",
    "    ax.set_yticks(np.arange(-10, 10))\n",
    "\n",
    "    plt.xlabel('$x_1$', size=14)\n",
    "    plt.ylabel('$x_2$', size=14)\n",
    "    plt.legend(loc='upper right', fontsize=14)\n",
    "    plt.axis([-10, 10, -10, 10])\n",
    "\n",
    "    plt.grid()\n",
    "    plt.gca().set_aspect(\"equal\")\n",
    "\n",
    "    plt.show()\n",
    "\n",
    "plot_lines(A_system)"
   ],
   "metadata": {
    "collapsed": false,
    "pycharm": {
     "name": "#%%\n"
    }
   }
  },
  {
   "cell_type": "code",
   "execution_count": null,
   "outputs": [],
   "source": [
    "\"\"\"\n",
    "Solving Linear Systems with 3 variables\n",
    "\"\"\"\n",
    "import numpy as np\n",
    "\n",
    "A = np.array([\n",
    "    [4, -3, 1],\n",
    "    [2, 1, 3],\n",
    "    [-1, 2, -5]\n",
    "])\n",
    "b = np.array([-10, 0, 17])\n",
    "\n",
    "x = np.linalg.solve(A,b)\n",
    "print(f\"solution for the matrix with det {np.linalg.det(A):.2f}: {x}\")\n",
    "\n",
    "AA = np.hstack((A,b.reshape((3,1))))\n",
    "print(f\"matrix AA: \\n{AA}\")"
   ],
   "metadata": {
    "collapsed": false,
    "pycharm": {
     "name": "#%%\n"
    }
   }
  },
  {
   "cell_type": "code",
   "execution_count": null,
   "outputs": [],
   "source": [
    "\"\"\"\n",
    "Row echelon form\n",
    "\"\"\"\n",
    "import sympy as sp\n",
    "import numpy as np\n",
    "A = np.array([\n",
    "    [1, 2, 3],\n",
    "    [3, 4, 7],\n",
    "    [6, 5, 9]\n",
    "])\n",
    "b = np.array([-10, 0, 17])\n",
    "M = sp.Matrix(np.hstack((A,b.reshape((3,1)))))\n",
    "print(f\"Matrix: \\n{np.array(M).astype(np.float64)}\")\n",
    "# np.array(M).astype(np.float64).\n",
    "\n",
    "M_row_echelon= M.echelon_form()\n",
    "print(f\"row echelon form: \\n{np.array(M_row_echelon).astype(np.float64)}\")\n",
    "M_reduced_echelon = M.rref()[0]\n",
    "print(f\"reduced row echelon form: \\n{np.array(M_reduced_echelon).astype(np.float64)}\")\n"
   ],
   "metadata": {
    "collapsed": false,
    "pycharm": {
     "name": "#%%\n"
    }
   }
  },
  {
   "cell_type": "code",
   "execution_count": 24,
   "outputs": [
    {
     "data": {
      "text/plain": "<Figure size 720x720 with 1 Axes>",
      "image/png": "[encoded data removed]"
     },
     "metadata": {
      "needs_background": "light"
     },
     "output_type": "display_data"
    },
    {
     "data": {
      "text/plain": "<Figure size 720x720 with 1 Axes>",
      "image/png": "[encoded data removed]"
     },
     "metadata": {
      "needs_background": "light"
     },
     "output_type": "display_data"
    },
    {
     "name": "stdout",
     "output_type": "stream",
     "text": [
      "Norm of a vector v is 3.1622776601683795\n",
      "The dot product of [1, -2, -5]  and [4, 3, -1] is 3\n",
      "np.dot(x,y) function returns dot product of x and y: 3\n",
      "This line output is a dot product of x and y:  3\n",
      "\n",
      "Dot product: 249831.65325815717\n",
      "Time for the loop version:146.58689498901367 ms\n",
      "Dot product:  249831.65325815594\n",
      "Time for the vectorized version, np.dot() function: 0.0 ms\n",
      "The dot product of i and j is 0\n"
     ]
    }
   ],
   "source": [
    "\"\"\"\n",
    "Lab: Vector operations\n",
    "\"\"\"\n",
    "import numpy as np\n",
    "import matplotlib.pyplot as plt\n",
    "import time\n",
    "\n",
    "def plot_vectors(list_v, list_label, list_color):\n",
    "    _, ax = plt.subplots(figsize=(10, 10))\n",
    "    ax.tick_params(axis='x', labelsize=14)\n",
    "    ax.tick_params(axis='y', labelsize=14)\n",
    "    ax.set_xticks(np.arange(-10, 10))\n",
    "    ax.set_yticks(np.arange(-10, 10))\n",
    "\n",
    "\n",
    "    plt.axis([-10, 10, -10, 10])\n",
    "    for i, v in enumerate(list_v):\n",
    "        sgn = 0.4 * np.array([[1] if i==0 else [i] for i in np.sign(v)])\n",
    "        plt.quiver(v[0], v[1], color=list_color[i], angles='xy', scale_units='xy', scale=1)\n",
    "        ax.text(v[0]-0.2+sgn[0], v[1]-0.2+sgn[1], list_label[i], fontsize=14, color=list_color[i])\n",
    "\n",
    "    plt.grid()\n",
    "    plt.gca().set_aspect(\"equal\")\n",
    "    plt.show()\n",
    "\n",
    "v = np.array([[1],[3]])\n",
    "# Scalar multiplication\n",
    "plot_vectors([v, 2*v, -2*v], [f\"$v$\", f\"$2v$\", f\"$-2v$\"], [\"black\", \"green\", \"blue\"])\n",
    "\n",
    "# Sum of vectors\n",
    "v = np.array([[1],[3]])\n",
    "w = np.array([[4],[-1]])\n",
    "plot_vectors([v, w, v + w], [f\"$v$\", f\"$w$\", f\"$v + w$\"], [\"black\", \"black\", \"red\"])\n",
    "#plot_vectors([v, w, np.add(v, w)], [f\"$v$\", f\"$w$\", f\"$v + w$\"], [\"black\", \"black\", \"red\"])\n",
    "\n",
    "# Norm of a Vector\n",
    "print(\"Norm of a vector v is\", np.linalg.norm(v))\n",
    "\n",
    "# Dot Product\n",
    "x = [1, -2, -5]\n",
    "y = [4, 3, -1]\n",
    "\n",
    "def dot(x, y):\n",
    "    s = 0\n",
    "    for xi, yi in zip(x, y):\n",
    "        s += xi * yi\n",
    "    return s\n",
    "\n",
    "print(f\"The dot product of {x}  and {y} is {dot(x, y)}\")\n",
    "print(\"np.dot(x,y) function returns dot product of x and y:\", np.dot(x, y))\n",
    "print(\"This line output is a dot product of x and y: \", np.array(x) @ np.array(y))\n",
    "x = np.array(x)\n",
    "y = np.array(y)\n",
    "\n",
    "# Speed of Calculations in Vectorized Form\n",
    "a = np.random.rand(1000001)\n",
    "b = np.random.rand(1000001)\n",
    "\n",
    "tic = time.time()\n",
    "c = dot(a,b)\n",
    "toc = time.time()\n",
    "print(f\"\\nDot product: {c}\")\n",
    "print (\"Time for the loop version:\" + str(1000*(toc-tic)) + \" ms\")\n",
    "\n",
    "tic = time.time()\n",
    "c = np.dot(b,a)\n",
    "toc = time.time()\n",
    "print(\"Dot product: \", c)\n",
    "print (\"Time for the vectorized version, np.dot() function: \" + str(1000*(toc-tic)) + \" ms\")\n",
    "\n",
    "i = np.array([1, 0, 0])\n",
    "j = np.array([0, 1, 0])\n",
    "print(\"The dot product of i and j is\", dot(i, j))"
   ],
   "metadata": {
    "collapsed": false,
    "pycharm": {
     "name": "#%%\n"
    }
   }
  }
 ],
 "metadata": {
  "kernelspec": {
   "display_name": "Python 3",
   "language": "python",
   "name": "python3"
  },
  "language_info": {
   "codemirror_mode": {
    "name": "ipython",
    "version": 2
   },
   "file_extension": ".py",
   "mimetype": "text/x-python",
   "name": "python",
   "nbconvert_exporter": "python",
   "pygments_lexer": "ipython2",
   "version": "2.7.6"
  }
 },
 "nbformat": 4,
 "nbformat_minor": 0
}