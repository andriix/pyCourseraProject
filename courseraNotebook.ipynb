{
 "cells": [
  {
   "cell_type": "code",
   "execution_count": 3,
   "outputs": [
    {
     "name": "stdout",
     "output_type": "stream",
     "text": [
      "-> Simple types:\n",
      "\t <class 'int'> <class 'float'> <class 'str'> <class 'bool'>\n",
      "-> Complex types:\n",
      "\t <class 'tuple'> <class 'list'> <class 'dict'> <class 'set'>\n",
      "+wristlocks\n",
      "1\n",
      "3\n",
      "0-1\n",
      "2-3\n",
      "28\n",
      "36\n",
      "21\n",
      "map() results:  [1, 4, 9, 16, 25, 36]\n",
      "success a= 3.3333333333333335\n",
      "Processing Complete\n",
      "['[1, 6, 3]', '[15, 65, 23]', '[974, 634, 227]']\n"
     ]
    }
   ],
   "source": [
    "\"\"\"\n",
    "Course 'Python for Data Science, AI & Development'\n",
    "\"\"\"\n",
    "import sympy as sm\n",
    "import matplotlib.pyplot as plt\n",
    "import pandas as pd\n",
    "import numpy as np\n",
    "%matplotlib inline\n",
    "\n",
    "# SIMPLE TYPES\n",
    "print('-> Simple types:')\n",
    "print('\\t',type(3), type(3.14),type('Ukraine'),type(True))\n",
    "\n",
    "# COMPLEX TYPES\n",
    "print('-> Complex types:')\n",
    "#<class 'tuple'> <class 'list'> <class 'dict'> <class 'set'>\n",
    "print('\\t',\n",
    "      type((1,2,3)), #tuple\n",
    "      type([1,2,3]), #list\n",
    "      type({'A':10,'B':20}), #dict\n",
    "      type({1,2})) #set\n",
    "\n",
    "# BRANCHING WITH 'Elif' CONSTRUCTION\n",
    "belt='purple'\n",
    "if belt=='blue' or belt=='purple':\n",
    "    print('+wristlocks')\n",
    "elif belt=='brown' or belt=='black':\n",
    "    print('+leg locks')\n",
    "elif belt=='red':\n",
    "    print('+ everything:)')\n",
    "else:\n",
    "    print('only basic stuff')\n",
    "\n",
    "# LOOPS WITH 'For' CONSTRUCTION\n",
    "numbers=(1,2,3,4)\n",
    "N=len(numbers)\n",
    "for i in range(0,N,2):\n",
    "    print(numbers[i])\n",
    "#---\n",
    "for i, val in enumerate(numbers):\n",
    "    if i%2==0:\n",
    "        print(str(i)+'-'+str(val))\n",
    "\n",
    "# LOOPS WITH 'While' CONSTRUCTION\n",
    "numbers=(28,36,21,31)\n",
    "iterator=0\n",
    "while not sm.isprime(numbers[iterator]):\n",
    "    print(numbers[iterator])\n",
    "    iterator= iterator + 1\n",
    "\n",
    "#FUNCTIONAL PROGRAMMING ALTERNATIVES FOR LOOPS:\n",
    "# map\n",
    "def square(num):\n",
    "    return num ** 2\n",
    "numbers=(1,2,3,4,5,6)\n",
    "squared=map(square, numbers)\n",
    "print(\"map() results: \",list(squared))\n",
    "\n",
    "# FUNCTION CONSTRUCTION\n",
    "def sayifprime(number):\n",
    "    \"\"\"\n",
    "    function for number checking\n",
    "    \"\"\"\n",
    "    isprime=sm.isprime(number)\n",
    "    if isprime:\n",
    "        phrase='it is a prime'\n",
    "    else:\n",
    "        phrase='it is NOT a prime'\n",
    "    return phrase\n",
    "\n",
    "# FUNCTION WITH ARGUMENTS AS A TUPLE\n",
    "def printAll(*args):\n",
    "    print(\"No of arguments:\", len(args))\n",
    "    for argument in args:\n",
    "        print(argument)\n",
    "\n",
    "# FUNCTION WITH ARGUMENTS AS A DICTIONARY\n",
    "def printDictionary(**args):\n",
    "    for key in args:\n",
    "        print(key + \" : \" + args[key])\n",
    "\n",
    "# EXCEPTION HANDLING\n",
    "exceptionHandlerValue = 10\n",
    "try:\n",
    "    enteredValue = float(input(\"Please enter a number to divide a\"))\n",
    "    exceptionHandlerValue = exceptionHandlerValue/enteredValue\n",
    "except ZeroDivisionError:\n",
    "    print(\"The number you provided cant divide 1 because it is 0\")\n",
    "except ValueError:\n",
    "    print(\"You did not provide a number\")\n",
    "except: # bad practice. Preferably to use specific error name\n",
    "    print(\"Something went wrong\")\n",
    "else:\n",
    "    print(\"success a=\",exceptionHandlerValue)\n",
    "finally:\n",
    "    print(\"Processing Complete\")\n",
    "\n",
    "# CLASSES AND OBJECTS\n",
    "class Circle(object):\n",
    "    # Constructor\n",
    "    def __init__(self, radius=3, color='blue'):\n",
    "        self.radius = radius\n",
    "        self.color = color\n",
    "        # Method\n",
    "    def add_radius(self, r):\n",
    "        self.radius = self.radius + r\n",
    "        return(self.radius)\n",
    "    # Method\n",
    "    def drawCircle(self):\n",
    "        plt.gca().add_patch(plt.Circle((0, 0), radius=self.radius,\n",
    "                                       fc=self.color))\n",
    "        plt.axis('scaled')\n",
    "        plt.show()\n",
    "#Class usage:\n",
    "#BlueCircle=Circle(radius=15)\n",
    "#GreenCircle=Circle(radius=3,color='green')\n",
    "#GreenCircle.drawCircle()\n",
    "\n",
    "# READING & WRITING FILES\n",
    "# writing to file\n",
    "readWriteFileName=\"myToWriteFile.txt\"\n",
    "exampleToWrite = [[1,6,3],[15,65,23],[974,634,227]]\n",
    "\n",
    "with open(readWriteFileName,\"w\") as writeFile:\n",
    "    for line in exampleToWrite:\n",
    "        writeFile.write(f\"{line}\\n\")\n",
    "#reading from file\n",
    "with open(readWriteFileName,\"r\") as exampFile:\n",
    "    exampContent=[line.strip() for line in exampFile]\n",
    "    print(exampContent)\n",
    "\n",
    "#PANDAS - Explore, clean, transform and visualize data\n",
    "#series\n",
    "data = np.array([13,16,17,29,21,35])\n",
    "ser = pd.Series(data)\n",
    "print(ser)\n",
    "#dataframe\n",
    "lst = ['BJJ', 'is', 'a', 'gentle', 'art']\n",
    "df = pd.DataFrame(lst)\n",
    "print(df)\n",
    "\n",
    "#"
   ],
   "metadata": {
    "collapsed": false,
    "pycharm": {
     "name": "#%%\n"
    }
   }
  },
  {
   "cell_type": "code",
   "execution_count": 21,
   "outputs": [
    {
     "data": {
      "text/plain": "5"
     },
     "execution_count": 21,
     "metadata": {},
     "output_type": "execute_result"
    }
   ],
   "source": [
    "#NUMPY - arrays, linear algebra, fourier transform and matrices\n",
    "arr = np.array([1,5,-4,-3])\n",
    "arr.max()"
   ],
   "metadata": {
    "collapsed": false,
    "pycharm": {
     "name": "#%%\n"
    }
   }
  },
  {
   "cell_type": "markdown",
   "source": [],
   "metadata": {
    "collapsed": false,
    "pycharm": {
     "name": "#%% md\n"
    }
   }
  }
 ],
 "metadata": {
  "kernelspec": {
   "display_name": "Python 3",
   "language": "python",
   "name": "python3"
  },
  "language_info": {
   "codemirror_mode": {
    "name": "ipython",
    "version": 2
   },
   "file_extension": ".py",
   "mimetype": "text/x-python",
   "name": "python",
   "nbconvert_exporter": "python",
   "pygments_lexer": "ipython2",
   "version": "2.7.6"
  }
 },
 "nbformat": 4,
 "nbformat_minor": 0
}