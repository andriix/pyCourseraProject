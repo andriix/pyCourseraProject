{
 "cells": [
  {
   "cell_type": "code",
   "execution_count": 1,
   "metadata": {
    "collapsed": true,
    "pycharm": {
     "name": "#%%\n"
    }
   },
   "outputs": [
    {
     "name": "stdout",
     "output_type": "stream",
     "text": [
      "Discontinuity integer tent map was called\n",
      "Sawtooth integer map was called\n"
     ]
    }
   ],
   "source": [
    "#imports\n",
    "#----\n",
    "def ordinaryIntTent(initVal,maxLength):\n",
    "    pass\n",
    "def discontIntTent(initVal,maxLength):\n",
    "    pass\n",
    "def sawtoothInt(initVal,maxLength):\n",
    "    pass\n",
    "def multOrderIntMap(initVal,maxLength):\n",
    "    pass\n",
    "\n",
    "def mapCalculation(type,init=1,mL=1000):\n",
    "    if type==\"ordinary int tent\":\n",
    "        ordinaryIntTent(init,mL)\n",
    "        print(\"Ordinary integer tent map was called\")\n",
    "    elif type==\"discont int tent\":\n",
    "        discontIntTent(init,mL)\n",
    "        print(\"Discontinuity integer tent map was called\")\n",
    "    elif type==\"sawtooth int map\":\n",
    "        sawtoothInt(init,mL)\n",
    "        print(\"Sawtooth integer map was called\")\n",
    "    elif type==\"mult order int map\":\n",
    "        multOrderIntMap(init,mL)\n",
    "        print(\"Multiplicative order integer map was called\")\n",
    "    else:\n",
    "        print(\"Unknown map was called\")\n",
    "\n",
    "mapCalculation(\"discont int tent\", 1, 100)\n",
    "mapCalculation(\"sawtooth int map\")"
   ]
  }
 ],
 "metadata": {
  "kernelspec": {
   "display_name": "Python 3",
   "language": "python",
   "name": "python3"
  },
  "language_info": {
   "codemirror_mode": {
    "name": "ipython",
    "version": 2
   },
   "file_extension": ".py",
   "mimetype": "text/x-python",
   "name": "python",
   "nbconvert_exporter": "python",
   "pygments_lexer": "ipython2",
   "version": "2.7.6"
  }
 },
 "nbformat": 4,
 "nbformat_minor": 0
}